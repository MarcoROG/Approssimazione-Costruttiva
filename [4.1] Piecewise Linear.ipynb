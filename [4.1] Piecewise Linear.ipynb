{
 "cells": [
  {
   "cell_type": "markdown",
   "metadata": {},
   "source": [
    "# Approssimazione con $S^{1,0} (\\Omega)$\n",
    "### (E4.1)\n",
    "\n",
    "Dato $ \\Omega = [a,b)$, una partizione $ P = \\{ t_0 = a < t_1 < \\ldots < t_n = b \\} $ e un parametro $ \\beta \\in [0,1] $ vogliamo studiare l'operatore $$\\mathcal{A}_{P} : \\mathcal{C}^0(\\Omega) \\to S^{1,0}(\\Omega)$$ definito come $$ f \\mapsto \\sum_{i=1}^n \\left[ f(t_{k-1}) \\cdot x_k + f(t_k) \\cdot (1 - x_k) \\right] \\chi_{I_k}$$ \n",
    "con $x_k = \\frac{x - t_{k-1}}{t_k - t_{k-1}} \\in \\left[0, 1 \\right)$ per $x \\in I_k$ "
   ]
  },
  {
   "cell_type": "code",
   "execution_count": 1,
   "metadata": {},
   "outputs": [
    {
     "data": {
      "application/javascript": [
       "IPython.OutputArea.prototype._should_scroll = function(lines) {\n",
       "    return false;\n",
       "}"
      ],
      "text/plain": [
       "<IPython.core.display.Javascript object>"
      ]
     },
     "metadata": {},
     "output_type": "display_data"
    }
   ],
   "source": [
    "%%javascript\n",
    "IPython.OutputArea.prototype._should_scroll = function(lines) {\n",
    "    return false;\n",
    "}"
   ]
  },
  {
   "cell_type": "code",
   "execution_count": 2,
   "metadata": {},
   "outputs": [],
   "source": [
    "from __future__ import print_function\n",
    "from ipywidgets import interact, interactive, fixed, interact_manual, IntSlider, FloatSlider\n",
    "import ipywidgets as widgets\n",
    "\n",
    "import numpy as np\n",
    "import matplotlib.pyplot as plt\n",
    "import math\n",
    "import pandas as PD # nothing political here"
   ]
  },
  {
   "cell_type": "code",
   "execution_count": 3,
   "metadata": {},
   "outputs": [],
   "source": [
    "from Partition import Partition\n",
    "from Approximation import MidpointApproximation, LinearContApproximation, L2ConstantApproximation\n",
    "from ErrorMetrics import ErrorManager, MaxNorm, L2Norm, L2TrapNorm\n",
    "from Tools import TestEOC"
   ]
  },
  {
   "cell_type": "code",
   "execution_count": 4,
   "metadata": {},
   "outputs": [],
   "source": [
    "def _testInteractive(funct, a, b, n):\n",
    "    interp = LinearContApproximation(Partition.Uniform(a,b,n), funct)\n",
    "    interp.plot()\n",
    "    \n",
    "def interactive(fun):\n",
    "    nSlid = IntSlider(min=1, max=30, step=1, continuous_update=False)\n",
    "    betaSlid = FloatSlider(min=0.0, max=1.0, step=0.05, continuous_update=False)\n",
    "    \n",
    "    interact(_testInteractive, funct=fixed(fun), a=(-10.0,10.0, 0.5), b=(0.0,10.0, 0.5), n=nSlid, beta=betaSlid)"
   ]
  },
  {
   "cell_type": "markdown",
   "metadata": {},
   "source": [
    "# Variazione dei parametri\n",
    "Prendiamo come funzione $ f(x) = x^2 $ e confrontiamo la target function e l'approssimante al variare dei parametri"
   ]
  },
  {
   "cell_type": "code",
   "execution_count": 5,
   "metadata": {},
   "outputs": [],
   "source": [
    "f = lambda x : x*x"
   ]
  },
  {
   "cell_type": "code",
   "execution_count": 6,
   "metadata": {
    "scrolled": true
   },
   "outputs": [
    {
     "data": {
      "application/vnd.jupyter.widget-view+json": {
       "model_id": "7b824b2cbd814cedb9f5fc521ae826d3",
       "version_major": 2,
       "version_minor": 0
      },
      "text/plain": [
       "interactive(children=(FloatSlider(value=0.0, description='a', max=10.0, min=-10.0, step=0.5), FloatSlider(valu…"
      ]
     },
     "metadata": {},
     "output_type": "display_data"
    }
   ],
   "source": [
    "interactive(f)"
   ]
  },
  {
   "cell_type": "markdown",
   "metadata": {},
   "source": [
    "# EOC\n",
    "Plottiamo l'errore in norma infinito vs il numero di elementi nella partizione che è proporzionale a $ \\frac{1}{h} $\n",
    "Definiamo come $EOC_n = \\log_2 \\left( \\frac{e_{n/2}}{e_n} \\right)$ e studiamo l'ordine di convergenza delle funzioni $f_{\\rho}(x) = x^{\\rho}$ con $x \\in [0,1]$, $\\rho \\in [0,2]$. Con la convenzione che per $\\rho=0$, $f(x) = -\\left(\\log(\\frac{x}{e})\\right)^{-1}$.\n",
    "\n",
    "Ricordiamo che i risultati teorici ci dicono che la velocità di convergenza è dello stesso ordine del modulo di smoothness $\\omega_1$"
   ]
  },
  {
   "cell_type": "code",
   "execution_count": 7,
   "metadata": {
    "scrolled": true
   },
   "outputs": [
    {
     "data": {
      "application/vnd.jupyter.widget-view+json": {
       "model_id": "367e0f3f030f4b089b7536347d244b6f",
       "version_major": 2,
       "version_minor": 0
      },
      "text/plain": [
       "interactive(children=(FloatSlider(value=1.25, description='p', max=2.5, step=0.05), FloatSlider(value=0.0, des…"
      ]
     },
     "metadata": {},
     "output_type": "display_data"
    }
   ],
   "source": [
    "clss = [\"Linear\", \"Midpoint\", \"L2\"]\n",
    "interact(TestEOC, p=(0.0, 2.5, 0.05), n_start=fixed(1), runs=fixed(7), a=(-0.1, 0.1, 0.02), b=fixed(1), appr=clss);"
   ]
  },
  {
   "cell_type": "markdown",
   "metadata": {},
   "source": [
    "Notiamo che per $p \\gg 2$, l'EOC raggiunge il suo valore teorico solo per n più grandi. Si può spiegare a causa della norma $\\mathcal{A}_r$ più grande di queste funzioni, o della loro costante di Lipschitz più grande.\n",
    "\n",
    "L'ordine massimo questa volta è 2 che viene raggiunto solo per $\\rho = 2$.\n",
    "L'ordine misurato è pari a $\\rho$ come suggeriscono i risultati teorici.\n",
    "Per $\\rho = 0$ la velocità di convergenza è arbitrariamente lenta."
   ]
  },
  {
   "cell_type": "code",
   "execution_count": null,
   "metadata": {},
   "outputs": [],
   "source": []
  }
 ],
 "metadata": {
  "kernelspec": {
   "display_name": "Python 3",
   "language": "python",
   "name": "python3"
  },
  "language_info": {
   "codemirror_mode": {
    "name": "ipython",
    "version": 3
   },
   "file_extension": ".py",
   "mimetype": "text/x-python",
   "name": "python",
   "nbconvert_exporter": "python",
   "pygments_lexer": "ipython3",
   "version": "3.6.5"
  }
 },
 "nbformat": 4,
 "nbformat_minor": 2
}
