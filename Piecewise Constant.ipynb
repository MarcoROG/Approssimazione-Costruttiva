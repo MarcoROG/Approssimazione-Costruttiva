{
 "cells": [
  {
   "cell_type": "markdown",
   "metadata": {},
   "source": [
    "# Approssimazione con $S^0 (\\Omega)$\n",
    "\n",
    "Dato $ \\Omega = [a,b)$, una partizione $ P = \\{ t_0 = a < t_1 < \\ldots < t_n = b \\} $ e un parametro $ \\beta \\in [0,1] $ vogliamo studiare l'operatore $\\mathcal{A}_{\\beta,P} : \\mathcal{C}^0(\\Omega) \\to S^0(\\Omega)$ definito come $ f \\mapsto \\sum_{i=1}^n f(\\eta_{k,\\beta}) \\chi_{I_k}$ con $\\eta_{k,\\beta} = t_{k-1} + \\beta (t_k - t_{k-1})$"
   ]
  },
  {
   "cell_type": "code",
   "execution_count": 1,
   "metadata": {},
   "outputs": [],
   "source": [
    "from __future__ import print_function\n",
    "import numpy as np\n",
    "import matplotlib.pyplot as plt\n",
    "from ipywidgets import interact, interactive, fixed, interact_manual, IntSlider, FloatSlider\n",
    "import ipywidgets as widgets\n",
    "import math\n",
    "from Partition import Partition\n",
    "from Approximation import ConstantApproximation, LinearContApproximation\n",
    "from ErrorMetrics import ErrorManager, MaxNorm"
   ]
  },
  {
   "cell_type": "code",
   "execution_count": 2,
   "metadata": {},
   "outputs": [],
   "source": [
    "def _testInteractive(funct, a, b, n, beta):\n",
    "    interp = ConstantApproximation(Partition.Uniform(a,b,n), funct, beta)\n",
    "    interp.plot()\n",
    "    \n",
    "def interactive(fun):\n",
    "    nSlid = IntSlider(min=1, max=30, step=1, continuous_update=False)\n",
    "    betaSlid = FloatSlider(min=0.0, max=1.0, step=0.05, continuous_update=False)\n",
    "    \n",
    "    interact(_testInteractive, funct=fixed(fun), a=(-10.0,10.0, 0.5), b=(0.0,10.0, 0.5), n=nSlid, beta=betaSlid)"
   ]
  },
  {
   "cell_type": "markdown",
   "metadata": {},
   "source": [
    "# Variazione dei parametri\n",
    "Prendiamo come funzione $ f(x) = x^2 $ e confrontiamo la target function e l'approssimante al variare dei parametri"
   ]
  },
  {
   "cell_type": "code",
   "execution_count": 3,
   "metadata": {},
   "outputs": [],
   "source": [
    "f = lambda x : x*x"
   ]
  },
  {
   "cell_type": "code",
   "execution_count": 4,
   "metadata": {},
   "outputs": [
    {
     "data": {
      "application/vnd.jupyter.widget-view+json": {
       "model_id": "c600a9d1568d48f3bb77deb5cc4ebca4",
       "version_major": 2,
       "version_minor": 0
      },
      "text/plain": [
       "interactive(children=(FloatSlider(value=0.0, description='a', max=10.0, min=-10.0, step=0.5), FloatSlider(valu…"
      ]
     },
     "metadata": {},
     "output_type": "display_data"
    }
   ],
   "source": [
    "interactive(f)"
   ]
  },
  {
   "cell_type": "markdown",
   "metadata": {},
   "source": [
    "# Errore vs Beta"
   ]
  },
  {
   "cell_type": "code",
   "execution_count": 5,
   "metadata": {},
   "outputs": [
    {
     "data": {
      "image/png": "[encoded data removed]",
      "text/plain": [
       "<Figure size 432x288 with 1 Axes>"
      ]
     },
     "metadata": {},
     "output_type": "display_data"
    }
   ],
   "source": [
    "a = -4.0\n",
    "b = 6.0\n",
    "n = 100\n",
    "errors = []\n",
    "interps = []\n",
    "\n",
    "for beta in np.linspace(0.0, 1.0, 25):\n",
    "    u = Partition.Uniform(a,b,n)\n",
    "    interp = ConstantApproximation(u, f, beta)\n",
    "    interps.append(interp)\n",
    "    errors.append(MaxNorm(interp))\n",
    "    \n",
    "plt.plot(np.linspace(0.0, 1.0, 25), errors)\n",
    "plt.show()"
   ]
  },
  {
   "cell_type": "markdown",
   "metadata": {},
   "source": [
    "# EOC\n",
    "Plottiamo l'errore in norma infinito vs il numero di elementi nella partizione che è proporzionale a $ \\frac{1}{h} $\n",
    "Definiamo come $EOC_n = \\log_2 \\left( \\frac{e_{n/2}}{e_n} \\right)$ e studiamo l'ordine di convergenza delle funzioni $f_{\\rho}(x) = x^{\\rho}$ con $x \\in [0,1]$\n",
    "Ricordiamo che i risultati teorici ci dicono che:\n",
    "\n",
    "1. L'errore in norma infinito scende in modo lineare con la dimensione della partizione se e solo se f è Lipschitz.\n",
    "2. L'errore in norma infinito scende in modo proporzionale a $h_{\\mathcal{P}}^{\\alpha}$ con $\\alpha \\in (0,1)$ se e solo se $f \\in Hol^{\\alpha}\\left([0,1]\\right)$.\n",
    "3. Se l'errore in norma infinito scende più velocemente che linearmente, allora la $f$ è una costante."
   ]
  },
  {
   "cell_type": "code",
   "execution_count": 14,
   "metadata": {},
   "outputs": [],
   "source": [
    "def TestEOC(p, n_start, runs, a, b, appr, mon): \n",
    "    dic = {\n",
    "        \"Constant\" : ConstantApproximation, \n",
    "        \"Linear\" :LinearContApproximation\n",
    "    }\n",
    "    \n",
    "    f = None\n",
    "    if p > 0:\n",
    "        f = lambda x : x**p\n",
    "    else:\n",
    "        f = lambda x : -1/(np.log(x/np.e))\n",
    "    \n",
    "    ns = [n_start * (2**n) for n in range(runs)]\n",
    "    interp = None\n",
    "    \n",
    "    EM = ErrorManager(MaxNorm)\n",
    "    \n",
    "    for n in ns:\n",
    "        u = Partition.Uniform(a, b, n)\n",
    "        interp = dic[appr](u, f)\n",
    "        EM.PushError(interp, mon, points = 50)  \n",
    "        \n",
    "    print(EM.EOC) \n",
    "    plt.xlim((-0.05, 1.05))\n",
    "    plt.ylim((-0.05, 1.05))\n",
    "    interp.plot()\n",
    "    EM.Plot()"
   ]
  },
  {
   "cell_type": "code",
   "execution_count": 15,
   "metadata": {},
   "outputs": [
    {
     "data": {
      "application/javascript": [
       "IPython.OutputArea.prototype._should_scroll = function(lines) {\n",
       "    return false;\n",
       "}"
      ],
      "text/plain": [
       "<IPython.core.display.Javascript object>"
      ]
     },
     "metadata": {},
     "output_type": "display_data"
    }
   ],
   "source": [
    "%%javascript\n",
    "IPython.OutputArea.prototype._should_scroll = function(lines) {\n",
    "    return false;\n",
    "}"
   ]
  },
  {
   "cell_type": "code",
   "execution_count": 17,
   "metadata": {
    "scrolled": true
   },
   "outputs": [
    {
     "data": {
      "application/vnd.jupyter.widget-view+json": {
       "model_id": "9112323a1f4c438095cfe41b62548063",
       "version_major": 2,
       "version_minor": 0
      },
      "text/plain": [
       "interactive(children=(FloatSlider(value=1.0, description='p', max=2.0, step=0.05), FloatSlider(value=0.0, desc…"
      ]
     },
     "metadata": {},
     "output_type": "display_data"
    }
   ],
   "source": [
    "clss = [\"Constant\", \"Linear\"]\n",
    "interact(TestEOC, p=(0.0, 2, 0.05), n_start=fixed(1), runs=fixed(6), a=(-0.1, 0.1, 0.02), b=fixed(1), appr=clss, mon=[True, False]);"
   ]
  },
  {
   "cell_type": "markdown",
   "metadata": {},
   "source": [
    "Notiamo che per $p \\gg 1$, l'EOC raggiunge il suo valore teorico solo per n più grandi. Si può spiegare a causa della norma $\\mathcal{A}_r$ più grande di queste funzioni, o della loro costante di Lipschitz più grande."
   ]
  }
 ],
 "metadata": {
  "kernelspec": {
   "display_name": "Python 3",
   "language": "python",
   "name": "python3"
  },
  "language_info": {
   "codemirror_mode": {
    "name": "ipython",
    "version": 3
   },
   "file_extension": ".py",
   "mimetype": "text/x-python",
   "name": "python",
   "nbconvert_exporter": "python",
   "pygments_lexer": "ipython3",
   "version": "3.6.5"
  }
 },
 "nbformat": 4,
 "nbformat_minor": 2
}
