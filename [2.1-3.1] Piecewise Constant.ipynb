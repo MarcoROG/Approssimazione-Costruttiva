{
 "cells": [
  {
   "cell_type": "markdown",
   "metadata": {},
   "source": [
    "# Approssimazione con $S^0 (\\Omega)$\n",
    "### (E2.1-E3.1)\n",
    "\n",
    "Dato $ \\Omega = [a,b)$, una partizione $ P = \\{ t_0 = a < t_1 < \\ldots < t_n = b \\} $ e un parametro $ \\beta \\in [0,1] $ vogliamo studiare l'operatore $$\\mathcal{A}_{\\beta,P} : \\mathcal{C}^0(\\Omega) \\to S^0(\\Omega)$$ definito come $$ f \\mapsto \\sum_{i=1}^n f(\\eta_{k,\\beta}) \\chi_{I_k}$$ con $\\eta_{k,\\beta} = t_{k-1} + \\beta (t_k - t_{k-1})$"
   ]
  },
  {
   "cell_type": "code",
   "execution_count": 1,
   "metadata": {},
   "outputs": [
    {
     "data": {
      "application/javascript": [
       "IPython.OutputArea.prototype._should_scroll = function(lines) {\n",
       "    return false;\n",
       "}"
      ],
      "text/plain": [
       "<IPython.core.display.Javascript object>"
      ]
     },
     "metadata": {},
     "output_type": "display_data"
    }
   ],
   "source": [
    "%%javascript\n",
    "IPython.OutputArea.prototype._should_scroll = function(lines) {\n",
    "    return false;\n",
    "}"
   ]
  },
  {
   "cell_type": "code",
   "execution_count": 2,
   "metadata": {},
   "outputs": [],
   "source": [
    "from __future__ import print_function\n",
    "from ipywidgets import interact, interactive, fixed, interact_manual, IntSlider, FloatSlider\n",
    "import ipywidgets as widgets\n",
    "\n",
    "import numpy as np\n",
    "import matplotlib.pyplot as plt\n",
    "import math\n",
    "import pandas as PD # nothing political here"
   ]
  },
  {
   "cell_type": "code",
   "execution_count": 3,
   "metadata": {},
   "outputs": [],
   "source": [
    "from Partition import Partition\n",
    "from Approximation import MidpointApproximation, LinearContApproximation, L2ConstantApproximation\n",
    "from ErrorMetrics import ErrorManager, MaxNorm, L2Norm, L2TrapNorm\n",
    "from Tools import TestEOC"
   ]
  },
  {
   "cell_type": "code",
   "execution_count": 4,
   "metadata": {},
   "outputs": [],
   "source": [
    "def _testInteractive(funct, a, b, n, beta):\n",
    "    interp = MidpointApproximation(Partition.Uniform(a,b,n), funct, beta)\n",
    "    interp.plot()\n",
    "    \n",
    "def interactive(fun):\n",
    "    nSlid = IntSlider(min=1, max=30, step=1, continuous_update=False)\n",
    "    betaSlid = FloatSlider(min=0.0, max=1.0, step=0.05, continuous_update=False)\n",
    "    \n",
    "    interact(_testInteractive, funct=fixed(fun), a=(-10.0,10.0, 0.5), b=(0.0,10.0, 0.5), n=nSlid, beta=betaSlid)"
   ]
  },
  {
   "cell_type": "markdown",
   "metadata": {},
   "source": [
    "# Variazione dei parametri\n",
    "Prendiamo come funzione $ f(x) = x^2 $ e confrontiamo la target function e l'approssimante al variare dei parametri"
   ]
  },
  {
   "cell_type": "code",
   "execution_count": 5,
   "metadata": {},
   "outputs": [],
   "source": [
    "f = lambda x : x*x"
   ]
  },
  {
   "cell_type": "code",
   "execution_count": 6,
   "metadata": {
    "scrolled": true
   },
   "outputs": [
    {
     "data": {
      "application/vnd.jupyter.widget-view+json": {
       "model_id": "35cdebfed5764cdc9f58d89c1dbbdd26",
       "version_major": 2,
       "version_minor": 0
      },
      "text/plain": [
       "interactive(children=(FloatSlider(value=0.0, description='a', max=10.0, min=-10.0, step=0.5), FloatSlider(valu…"
      ]
     },
     "metadata": {},
     "output_type": "display_data"
    }
   ],
   "source": [
    "interactive(f)"
   ]
  },
  {
   "cell_type": "markdown",
   "metadata": {},
   "source": [
    "# Errore vs Beta\n",
    "\n",
    "Presa $f(x) = x^2$ su $(-5, 5)$ facciamo variare $\\beta$ in una partizione di $(0,1)$, approssimiamo con $n=100$ e calcoliamo l'errore in norma $L^{\\infty}$"
   ]
  },
  {
   "cell_type": "code",
   "execution_count": 7,
   "metadata": {},
   "outputs": [
    {
     "data": {
      "image/png": "[encoded data removed]",
      "text/plain": [
       "<Figure size 432x288 with 1 Axes>"
      ]
     },
     "metadata": {},
     "output_type": "display_data"
    }
   ],
   "source": [
    "a = -5.0\n",
    "b = 5.0\n",
    "n = 100\n",
    "errors = []\n",
    "interps = []\n",
    "\n",
    "candidateBetas = np.linspace(0.0, 1.0, 25) \n",
    "u = Partition.Uniform(a, b, n) # Creiamo la partizione di (a,b)\n",
    "\n",
    "for beta in candidateBetas: # Iteriamo su tutti i possibili beta in (0,1)\n",
    "    interp = MidpointApproximation(u, f, beta) #Calcoliamo l'approssimazione\n",
    "    interps.append(interp) #Salviamo l'interpolata\n",
    "    errors.append(MaxNorm(interp)) #Salviamo l'errore commesso\n",
    "    \n",
    "plt.plot(candidateBetas, errors) #Plottiamo\n",
    "plt.show()"
   ]
  },
  {
   "cell_type": "markdown",
   "metadata": {},
   "source": [
    "Possiamo notare che l'errore è minimo per $\\beta = 0.5$, come suggerito dalla stima in E2.4"
   ]
  },
  {
   "cell_type": "markdown",
   "metadata": {},
   "source": [
    "# EOC\n",
    "Plottiamo l'errore in norma infinito vs il numero di elementi nella partizione che è proporzionale a $ \\frac{1}{h} $\n",
    "Definiamo come $EOC_n = \\log_2 \\left( \\frac{e_{n/2}}{e_n} \\right)$ e studiamo l'ordine di convergenza delle funzioni $f_{\\rho}(x) = x^{\\rho}$ con $x \\in [0,1]$, $\\rho \\in [0,2]$. Con la convenzione che per $\\rho=0$, $f(x) = -\\left(\\log(\\frac{x}{e})\\right)^{-1}$.\n",
    "\n",
    "Ricordiamo che i risultati teorici ci dicono che:\n",
    "\n",
    "1. $E_n(f)_{\\infty}$ scende in modo lineare con la dimensione della partizione se e solo se f è Lipschitz.\n",
    "2. $E_n(f)_{\\infty}$ scende in modo proporzionale a $h_{\\mathcal{P}}^{\\alpha}$ con $\\alpha \\in (0,1)$ se e solo se $f \\in Hol^{\\alpha}\\left([0,1]\\right)$.\n",
    "3. Se $E_n(f)_{\\infty}$ scende più velocemente che linearmente, allora la $f$ è una costante."
   ]
  },
  {
   "cell_type": "code",
   "execution_count": 8,
   "metadata": {
    "scrolled": true
   },
   "outputs": [
    {
     "data": {
      "application/vnd.jupyter.widget-view+json": {
       "model_id": "7c5e76d8511e4b5c9a2b2288b6f047bf",
       "version_major": 2,
       "version_minor": 0
      },
      "text/plain": [
       "interactive(children=(FloatSlider(value=1.25, description='p', max=2.5, step=0.05), FloatSlider(value=0.0, des…"
      ]
     },
     "metadata": {},
     "output_type": "display_data"
    }
   ],
   "source": [
    "clss = [\"Midpoint\", \"Linear\", \"L2\"]\n",
    "interact(TestEOC, p=(0.0, 2.5, 0.05), n_start=fixed(1), runs=fixed(7), a=(-0.1, 0.1, 0.02), b=fixed(1), appr=clss);"
   ]
  },
  {
   "cell_type": "markdown",
   "metadata": {},
   "source": [
    "Notiamo che per $p \\gg 1$, l'EOC raggiunge il suo valore teorico solo per n più grandi. Si può spiegare a causa della norma $\\mathcal{A}_r$ più grande di queste funzioni, o della loro costante di Lipschitz più grande."
   ]
  }
 ],
 "metadata": {
  "kernelspec": {
   "display_name": "Python 3",
   "language": "python",
   "name": "python3"
  },
  "language_info": {
   "codemirror_mode": {
    "name": "ipython",
    "version": 3
   },
   "file_extension": ".py",
   "mimetype": "text/x-python",
   "name": "python",
   "nbconvert_exporter": "python",
   "pygments_lexer": "ipython3",
   "version": "3.6.5"
  }
 },
 "nbformat": 4,
 "nbformat_minor": 2
}
